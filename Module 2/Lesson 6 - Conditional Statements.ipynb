{
 "cells": [
  {
   "cell_type": "markdown",
   "metadata": {},
   "source": [
    "## If Statement"
   ]
  },
  {
   "cell_type": "markdown",
   "metadata": {},
   "source": [
    "If statement evaluates a condition and if the condition is true it will execute the block of code intended inside it."
   ]
  },
  {
   "cell_type": "code",
   "execution_count": 1,
   "metadata": {},
   "outputs": [
    {
     "name": "stdout",
     "output_type": "stream",
     "text": [
      "Eligible to vote\n"
     ]
    }
   ],
   "source": [
    "## If Statement \n",
    "age = 20\n",
    "\n",
    "if age>=18:\n",
    "    print(\"Eligible to vote\")"
   ]
  },
  {
   "cell_type": "code",
   "execution_count": 2,
   "metadata": {},
   "outputs": [
    {
     "data": {
      "text/plain": [
       "True"
      ]
     },
     "execution_count": 2,
     "metadata": {},
     "output_type": "execute_result"
    }
   ],
   "source": [
    "age>=18"
   ]
  },
  {
   "cell_type": "markdown",
   "metadata": {},
   "source": [
    "## Else Statement"
   ]
  },
  {
   "cell_type": "markdown",
   "metadata": {},
   "source": [
    "Else statement executes the block of code intended inside it if the if condition becomes False"
   ]
  },
  {
   "cell_type": "code",
   "execution_count": 3,
   "metadata": {},
   "outputs": [
    {
     "name": "stdout",
     "output_type": "stream",
     "text": [
      "Not Eligible to Vote\n"
     ]
    }
   ],
   "source": [
    "## Else Statement\n",
    "age=16\n",
    "\n",
    "if age>=18:\n",
    "    print(\"Eligible to Vote\")\n",
    "else:\n",
    "    print(\"Not Eligible to Vote\")"
   ]
  },
  {
   "cell_type": "markdown",
   "metadata": {},
   "source": [
    "## Elif Statement"
   ]
  },
  {
   "cell_type": "markdown",
   "metadata": {},
   "source": [
    "Elif stands for \"Else if\" and it is used to evaluate multiple conditions"
   ]
  },
  {
   "cell_type": "code",
   "execution_count": 4,
   "metadata": {},
   "outputs": [
    {
     "name": "stdout",
     "output_type": "stream",
     "text": [
      "You are a teenager\n"
     ]
    }
   ],
   "source": [
    "# Elif Statement\n",
    "\n",
    "age=17\n",
    "\n",
    "if age<13:\n",
    "    print(\"You are a child\")\n",
    "elif age<18:\n",
    "    print(\"You are a teenager\")\n",
    "else:\n",
    "    print(\"You are an adult\")"
   ]
  },
  {
   "cell_type": "markdown",
   "metadata": {},
   "source": [
    "## Nested Statement"
   ]
  },
  {
   "cell_type": "markdown",
   "metadata": {},
   "source": [
    "Nested statement means we can place one if, elif or else statement inside another if, elif or else statement"
   ]
  },
  {
   "cell_type": "code",
   "execution_count": 1,
   "metadata": {},
   "outputs": [
    {
     "name": "stdout",
     "output_type": "stream",
     "text": [
      "Number is positive and even\n"
     ]
    }
   ],
   "source": [
    "## Check whether the number is odd, even or negative\n",
    "\n",
    "num = int(input(\"Enter a Number:\"))\n",
    "\n",
    "if num>0:\n",
    "    if num%2 == 0:\n",
    "        print(\"Number is positive and even\")\n",
    "    else:\n",
    "        print(\"Number is positive and odd\")\n",
    "else:\n",
    "    print(\"Number is negative or zero\")"
   ]
  },
  {
   "cell_type": "code",
   "execution_count": 5,
   "metadata": {},
   "outputs": [
    {
     "name": "stdout",
     "output_type": "stream",
     "text": [
      "It is not a Leap Year\n"
     ]
    }
   ],
   "source": [
    "## Practical Example\n",
    "\n",
    "## Determine if a year is leap year using nested condition statement\n",
    "\n",
    "year = int(input(\"Enter Year:\"))\n",
    "\n",
    "if year%4 == 0:\n",
    "    if year%100 == 0:\n",
    "        if year%400 == 0 :\n",
    "            print(\"It is a Leap Year\")\n",
    "        else:\n",
    "            print(\"It is not a Leap Year\")\n",
    "    else:\n",
    "        print(\"It is not a Leap Year\")\n",
    "else:\n",
    "    print(\"It is not a Leap Year\")\n"
   ]
  },
  {
   "cell_type": "markdown",
   "metadata": {},
   "source": [
    "## Assignments"
   ]
  },
  {
   "cell_type": "markdown",
   "metadata": {},
   "source": [
    "1. Simple Calculator"
   ]
  },
  {
   "cell_type": "code",
   "execution_count": 6,
   "metadata": {},
   "outputs": [
    {
     "name": "stdout",
     "output_type": "stream",
     "text": [
      "3 - 5 = -2\n"
     ]
    }
   ],
   "source": [
    "num1 = int(input(\"Enter Number1 :\"))\n",
    "num2 = int(input(\"Enter Number2:\"))\n",
    "op = input(\"Enter Operator +,-,*,/:\")\n",
    "\n",
    "if op == \"+\":\n",
    "    print(num1,op,num2,\"=\",num1+num2)\n",
    "elif op == \"-\":\n",
    "    print(num1,op,num2,\"=\",num1-num2)\n",
    "elif op == \"*\":\n",
    "    print(num1,op,num2,\"=\",num1*num2)\n",
    "elif op == \"/\":\n",
    "    print(num1,op,num2,\"=\",num1/num2)\n",
    "else:\n",
    "    print(\"Invalid Operator\")"
   ]
  },
  {
   "cell_type": "markdown",
   "metadata": {},
   "source": [
    "2. Determine the price based on age and whether the person is a student"
   ]
  },
  {
   "cell_type": "code",
   "execution_count": 7,
   "metadata": {},
   "outputs": [
    {
     "name": "stdout",
     "output_type": "stream",
     "text": [
      "Your Ticket price is $25\n"
     ]
    }
   ],
   "source": [
    "age = int(input(\"Enter Age:\"))\n",
    "is_student = input(\"Are you student yes or no:\").lower()\n",
    "\n",
    "if age<13:\n",
    "    if is_student == \"yes\":\n",
    "        print(\"Your Ticket price is $10\")\n",
    "    else:\n",
    "        print(\"Your ticket price is $13\")\n",
    "if age<18:\n",
    "    if is_student == \"yes\":\n",
    "        print(\"Your Ticket price is $15\")\n",
    "    else:\n",
    "        print(\"Your ticket price is $18\")\n",
    "if age<22:\n",
    "    if is_student == \"yes\":\n",
    "        print(\"Your Ticket price is $18\")\n",
    "    else:\n",
    "        print(\"Your ticket price is $21\")\n",
    "else:\n",
    "    print(\"Your Ticket price is $25\")"
   ]
  }
 ],
 "metadata": {
  "kernelspec": {
   "display_name": "myenv",
   "language": "python",
   "name": "python3"
  },
  "language_info": {
   "codemirror_mode": {
    "name": "ipython",
    "version": 3
   },
   "file_extension": ".py",
   "mimetype": "text/x-python",
   "name": "python",
   "nbconvert_exporter": "python",
   "pygments_lexer": "ipython3",
   "version": "3.11.7"
  }
 },
 "nbformat": 4,
 "nbformat_minor": 2
}
