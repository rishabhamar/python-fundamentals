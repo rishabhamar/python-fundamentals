{
 "cells": [
  {
   "cell_type": "markdown",
   "metadata": {},
   "source": [
    "# Operators"
   ]
  },
  {
   "cell_type": "markdown",
   "metadata": {},
   "source": [
    "## Arithmetic Operator"
   ]
  },
  {
   "cell_type": "code",
   "execution_count": 4,
   "metadata": {},
   "outputs": [
    {
     "name": "stdout",
     "output_type": "stream",
     "text": [
      "Addition: 17\n",
      "Substraction: 7\n",
      "Multiplication: 60\n",
      "Division: 2.4\n",
      "Floor Division: 2\n",
      "Modulus: 2\n",
      "Exponentiation: 248832\n"
     ]
    }
   ],
   "source": [
    "a=12\n",
    "b=5\n",
    "\n",
    "add_result = a+b # addition\n",
    "sub_result = a-b # substraction\n",
    "mult_result = a*b # multiplication\n",
    "div_result = a/b # division\n",
    "floor_div_result = a//b # floor division\n",
    "mod_result = a%b # modulus\n",
    "exp_result = a**b # exponentiation\n",
    "\n",
    "print(\"Addition:\",add_result)\n",
    "print(\"Substraction:\",sub_result)\n",
    "print(\"Multiplication:\",mult_result)\n",
    "print(\"Division:\",div_result)\n",
    "print(\"Floor Division:\",floor_div_result)\n",
    "print(\"Modulus:\",mod_result)\n",
    "print(\"Exponentiation:\",exp_result)"
   ]
  },
  {
   "cell_type": "markdown",
   "metadata": {},
   "source": [
    "## Comparision Operators"
   ]
  },
  {
   "cell_type": "code",
   "execution_count": 5,
   "metadata": {},
   "outputs": [
    {
     "name": "stdout",
     "output_type": "stream",
     "text": [
      "True\n"
     ]
    }
   ],
   "source": [
    "# Equal to ==\n",
    "\n",
    "a=10\n",
    "b=10\n",
    "\n",
    "print(a==b)"
   ]
  },
  {
   "cell_type": "code",
   "execution_count": 6,
   "metadata": {},
   "outputs": [
    {
     "name": "stdout",
     "output_type": "stream",
     "text": [
      "True\n"
     ]
    }
   ],
   "source": [
    "str1=\"Rishabh\"\n",
    "str2=\"Rishabh\"\n",
    "\n",
    "print(str1==str2)"
   ]
  },
  {
   "cell_type": "code",
   "execution_count": 7,
   "metadata": {},
   "outputs": [
    {
     "name": "stdout",
     "output_type": "stream",
     "text": [
      "False\n"
     ]
    }
   ],
   "source": [
    "str3=\"Rishabh\"\n",
    "str4=\"rishabh\"\n",
    "\n",
    "print(str3==str4)"
   ]
  },
  {
   "cell_type": "code",
   "execution_count": 8,
   "metadata": {},
   "outputs": [
    {
     "name": "stdout",
     "output_type": "stream",
     "text": [
      "False\n"
     ]
    }
   ],
   "source": [
    "# Not Equal to !=\n",
    "str1=\"Rishabh\"\n",
    "str2=\"Rishabh\"\n",
    "\n",
    "print(str1!=str2)"
   ]
  },
  {
   "cell_type": "code",
   "execution_count": 9,
   "metadata": {},
   "outputs": [
    {
     "name": "stdout",
     "output_type": "stream",
     "text": [
      "True\n"
     ]
    }
   ],
   "source": [
    "str3=\"Rishabh\"\n",
    "str4=\"rishabh\"\n",
    "\n",
    "print(str3!=str4)"
   ]
  },
  {
   "cell_type": "code",
   "execution_count": 10,
   "metadata": {},
   "outputs": [
    {
     "name": "stdout",
     "output_type": "stream",
     "text": [
      "False\n"
     ]
    }
   ],
   "source": [
    "# greater than >\n",
    "\n",
    "num1=34\n",
    "num2=45\n",
    "\n",
    "print(num1>num2)"
   ]
  },
  {
   "cell_type": "code",
   "execution_count": 11,
   "metadata": {},
   "outputs": [
    {
     "name": "stdout",
     "output_type": "stream",
     "text": [
      "True\n"
     ]
    }
   ],
   "source": [
    "# less than <\n",
    "\n",
    "print(num1<num2)"
   ]
  },
  {
   "cell_type": "code",
   "execution_count": 12,
   "metadata": {},
   "outputs": [
    {
     "name": "stdout",
     "output_type": "stream",
     "text": [
      "True\n",
      "True\n"
     ]
    }
   ],
   "source": [
    "# greater than or equal to >=\n",
    "\n",
    "num1=23\n",
    "num2=23\n",
    "num3=24\n",
    "\n",
    "print(num1>=num2)\n",
    "print(num3>=num2)"
   ]
  },
  {
   "cell_type": "code",
   "execution_count": 13,
   "metadata": {},
   "outputs": [
    {
     "name": "stdout",
     "output_type": "stream",
     "text": [
      "True\n",
      "True\n"
     ]
    }
   ],
   "source": [
    "# less than or equal to <=\n",
    "\n",
    "print(num1<=num2)\n",
    "print(num1<=num3)"
   ]
  },
  {
   "cell_type": "markdown",
   "metadata": {},
   "source": [
    "## Logical Operators"
   ]
  },
  {
   "cell_type": "code",
   "execution_count": 14,
   "metadata": {},
   "outputs": [
    {
     "name": "stdout",
     "output_type": "stream",
     "text": [
      "True\n"
     ]
    }
   ],
   "source": [
    "# AND Operator\n",
    "\n",
    "x=True\n",
    "y=True\n",
    "\n",
    "print(x and y)"
   ]
  },
  {
   "cell_type": "code",
   "execution_count": 15,
   "metadata": {},
   "outputs": [
    {
     "name": "stdout",
     "output_type": "stream",
     "text": [
      "False\n"
     ]
    }
   ],
   "source": [
    "x=True\n",
    "y=False\n",
    "\n",
    "print(x and y) "
   ]
  },
  {
   "cell_type": "code",
   "execution_count": 16,
   "metadata": {},
   "outputs": [
    {
     "name": "stdout",
     "output_type": "stream",
     "text": [
      "False\n"
     ]
    }
   ],
   "source": [
    "# OR\n",
    "\n",
    "x=False\n",
    "y=False\n",
    "\n",
    "print(x or y)"
   ]
  },
  {
   "cell_type": "code",
   "execution_count": 17,
   "metadata": {},
   "outputs": [
    {
     "name": "stdout",
     "output_type": "stream",
     "text": [
      "True\n"
     ]
    }
   ],
   "source": [
    "x=True\n",
    "y=False\n",
    "\n",
    "print(x or y)"
   ]
  },
  {
   "cell_type": "code",
   "execution_count": 18,
   "metadata": {},
   "outputs": [
    {
     "name": "stdout",
     "output_type": "stream",
     "text": [
      "False\n"
     ]
    }
   ],
   "source": [
    "# NOT\n",
    "\n",
    "x=True\n",
    "\n",
    "print(not x)"
   ]
  },
  {
   "cell_type": "markdown",
   "metadata": {},
   "source": [
    "### Simple Calculator"
   ]
  },
  {
   "cell_type": "code",
   "execution_count": 19,
   "metadata": {},
   "outputs": [
    {
     "name": "stdout",
     "output_type": "stream",
     "text": [
      "Addition: 45.0\n",
      "Substraction: 1.0\n",
      "Multiplication: 506.0\n",
      "Division: 1.0454545454545454\n",
      "Floor Division: 1.0\n",
      "Modulus: 1.0\n",
      "Exponentiation: 9.078464347759962e+29\n"
     ]
    }
   ],
   "source": [
    "a=float(input(\"Enter first number:\"))\n",
    "b=float(input(\"Enter second number:\"))\n",
    "\n",
    "add_result = a+b # addition\n",
    "sub_result = a-b # substraction\n",
    "mult_result = a*b # multiplication\n",
    "div_result = a/b # division\n",
    "floor_div_result = a//b # floor division\n",
    "mod_result = a%b # modulus\n",
    "exp_result = a**b # exponentiation\n",
    "\n",
    "print(\"Addition:\",add_result)\n",
    "print(\"Substraction:\",sub_result)\n",
    "print(\"Multiplication:\",mult_result)\n",
    "print(\"Division:\",div_result)\n",
    "print(\"Floor Division:\",floor_div_result)\n",
    "print(\"Modulus:\",mod_result)\n",
    "print(\"Exponentiation:\",exp_result)"
   ]
  }
 ],
 "metadata": {
  "kernelspec": {
   "display_name": "Python 3",
   "language": "python",
   "name": "python3"
  },
  "language_info": {
   "codemirror_mode": {
    "name": "ipython",
    "version": 3
   },
   "file_extension": ".py",
   "mimetype": "text/x-python",
   "name": "python",
   "nbconvert_exporter": "python",
   "pygments_lexer": "ipython3",
   "version": "3.12.0"
  }
 },
 "nbformat": 4,
 "nbformat_minor": 2
}
